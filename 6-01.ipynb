{
 "metadata": {
  "language_info": {
   "codemirror_mode": {
    "name": "ipython",
    "version": 3
   },
   "file_extension": ".py",
   "mimetype": "text/x-python",
   "name": "python",
   "nbconvert_exporter": "python",
   "pygments_lexer": "ipython3",
   "version": "3.8.3-final"
  },
  "orig_nbformat": 2,
  "kernelspec": {
   "name": "python38332bita5fc7490e98048508d6b1daf7a41b541",
   "display_name": "Python 3.8.3 32-bit"
  }
 },
 "nbformat": 4,
 "nbformat_minor": 2,
 "cells": [
  {
   "cell_type": "code",
   "execution_count": 2,
   "metadata": {},
   "outputs": [],
   "source": [
    "class Car:\n",
    "    pass"
   ]
  },
  {
   "cell_type": "code",
   "execution_count": 3,
   "metadata": {},
   "outputs": [
    {
     "output_type": "execute_result",
     "data": {
      "text/plain": "__main__.Car"
     },
     "metadata": {},
     "execution_count": 3
    }
   ],
   "source": [
    "my_car=Car()\n",
    "type(my_car)\n"
   ]
  },
  {
   "cell_type": "code",
   "execution_count": 4,
   "metadata": {},
   "outputs": [],
   "source": [
    "class Car:\n",
    "    num_wheels=4"
   ]
  },
  {
   "cell_type": "code",
   "execution_count": 5,
   "metadata": {},
   "outputs": [
    {
     "output_type": "execute_result",
     "data": {
      "text/plain": "4"
     },
     "metadata": {},
     "execution_count": 5
    }
   ],
   "source": [
    "my_car=Car()\n",
    "my_car.num_wheels"
   ]
  },
  {
   "cell_type": "code",
   "execution_count": 6,
   "metadata": {},
   "outputs": [],
   "source": [
    "class Car:\n",
    "    weight=4000\n",
    "    num_wheels=4\n",
    "\n",
    "    def calc_weight_per_wheel(self):\n",
    "        return 1000.0"
   ]
  },
  {
   "cell_type": "code",
   "execution_count": 7,
   "metadata": {},
   "outputs": [
    {
     "output_type": "execute_result",
     "data": {
      "text/plain": "1000.0"
     },
     "metadata": {},
     "execution_count": 7
    }
   ],
   "source": [
    "my_car=Car()\n",
    "my_car.calc_weight_per_wheel()"
   ]
  },
  {
   "cell_type": "code",
   "execution_count": 8,
   "metadata": {},
   "outputs": [],
   "source": [
    "class Car:\n",
    "    weight=4000\n",
    "    num_wheels=4\n",
    "\n",
    "    def calc_weight_per_wheel(self):\n",
    "        return self.weight/self.num_wheels"
   ]
  },
  {
   "cell_type": "code",
   "execution_count": 9,
   "metadata": {},
   "outputs": [
    {
     "output_type": "execute_result",
     "data": {
      "text/plain": "1000.0"
     },
     "metadata": {},
     "execution_count": 9
    }
   ],
   "source": [
    "my_car=Car()\n",
    "my_car.calc_weight_per_wheel()"
   ]
  },
  {
   "cell_type": "code",
   "execution_count": 11,
   "metadata": {},
   "outputs": [],
   "source": [
    "class Car:\n",
    "    weight=4000\n",
    "    num_wheels=4\n",
    "\n",
    "    def __init__(self,car_name=\"NoName\"):\n",
    "        self.name=car_name\n",
    "\n",
    "    def calc_weight_per_wheel(self):\n",
    "        return self.weight/num_wheels\n",
    "\n",
    "default_car=Car()"
   ]
  },
  {
   "cell_type": "code",
   "execution_count": 12,
   "metadata": {},
   "outputs": [
    {
     "output_type": "execute_result",
     "data": {
      "text/plain": "'NoName'"
     },
     "metadata": {},
     "execution_count": 12
    }
   ],
   "source": [
    "default_car.name"
   ]
  },
  {
   "cell_type": "code",
   "execution_count": 13,
   "metadata": {},
   "outputs": [
    {
     "output_type": "execute_result",
     "data": {
      "text/plain": "'DELorean'"
     },
     "metadata": {},
     "execution_count": 13
    }
   ],
   "source": [
    "my_car=Car(\"DELorean\")\n",
    "my_car.name"
   ]
  },
  {
   "cell_type": "code",
   "execution_count": 14,
   "metadata": {},
   "outputs": [],
   "source": [
    "class Cat:\n",
    "    cry=\"にゃー\"\n",
    "    legs=4\n",
    "    is_animal=True"
   ]
  },
  {
   "cell_type": "code",
   "execution_count": 15,
   "metadata": {},
   "outputs": [
    {
     "output_type": "execute_result",
     "data": {
      "text/plain": "'鳴き声:にゃー,足の数:4,動物:True'"
     },
     "metadata": {},
     "execution_count": 15
    }
   ],
   "source": [
    "tama=Cat()\n",
    "\"鳴き声:{},足の数:{},動物:{}\".format(tama.cry,tama.legs,tama.is_animal)"
   ]
  },
  {
   "cell_type": "code",
   "execution_count": 20,
   "metadata": {},
   "outputs": [],
   "source": [
    "class Person:\n",
    "    def __init__(self,name=\"\",nationality=\"\",birth=\"\",address=\"\"):\n",
    "        self.name=name\n",
    "        self.nationality=nationality\n",
    "        self.birth=birth\n",
    "        self.address=address\n",
    "\n",
    "    def show_attributes(self):\n",
    "        print(\"名前:\",self.name)\n",
    "        print(\"国籍:\",self.nationality)\n",
    "        print(\"生まれた年:\",self.birth)\n",
    "        print(\"住んでるところ:\",self.address)"
   ]
  },
  {
   "cell_type": "code",
   "execution_count": 21,
   "metadata": {
    "tags": []
   },
   "outputs": [
    {
     "output_type": "stream",
     "name": "stdout",
     "text": "名前: かぐや姫\n国籍: 日本\n生まれた年: 685\n住んでるところ: 静岡県富士市\n"
    }
   ],
   "source": [
    "heroine=Person(\"かぐや姫\",\"日本\",\"685\",\"静岡県富士市\")\n",
    "heroine.show_attributes()"
   ]
  },
  {
   "cell_type": "code",
   "execution_count": 22,
   "metadata": {
    "tags": []
   },
   "outputs": [
    {
     "output_type": "stream",
     "name": "stdout",
     "text": "名前: 金太郎\n国籍: 日本\n生まれた年: 956\n住んでるところ: 静岡県駿東部群小山町\n"
    }
   ],
   "source": [
    "hero=Person(\"金太郎\",\"日本\",\"956\",\"静岡県駿東部群小山町\")\n",
    "hero.show_attributes()"
   ]
  },
  {
   "cell_type": "code",
   "execution_count": null,
   "metadata": {},
   "outputs": [],
   "source": []
  }
 ]
}